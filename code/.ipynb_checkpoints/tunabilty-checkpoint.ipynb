{
 "cells": [
  {
   "cell_type": "markdown",
   "id": "764cbefd-839a-49e2-92a2-159e74fdea7d",
   "metadata": {},
   "source": [
    "## Tunability Importance of Hyperparameters of ML Algorithms"
   ]
  },
  {
   "cell_type": "code",
   "execution_count": 115,
   "id": "33de6500-92c3-459b-aa2a-de99711c8824",
   "metadata": {},
   "outputs": [],
   "source": [
    "import pandas as pd\n",
    "import numpy as np\n",
    "from sklearn.pipeline import Pipeline\n",
    "from sklearn.preprocessing import MinMaxScaler, OneHotEncoder\n",
    "from sklearn.impute import SimpleImputer\n",
    "from sklearn.compose import make_column_selector, ColumnTransformer\n",
    "from sklearn.ensemble import RandomForestClassifier\n",
    "from sklearn.model_selection import cross_validate, train_test_split"
   ]
  },
  {
   "cell_type": "code",
   "execution_count": 67,
   "id": "36609896-3a4c-4a84-a1f6-e7c36c0e42e9",
   "metadata": {},
   "outputs": [],
   "source": [
    "data_banana = pd.read_csv(\"../data/banana_quality.csv\")\n",
    "data_fitness = pd.read_csv(\"../data/fitness_dataset.csv\")\n",
    "data_heart = pd.read_csv(\"../data/heart.csv\")\n",
    "data_HR = pd.read_csv(\"../data/recruitment_data.csv\")"
   ]
  },
  {
   "cell_type": "code",
   "execution_count": 69,
   "id": "fbf0618e-87eb-42bc-9b3f-c7424ec837fa",
   "metadata": {},
   "outputs": [
    {
     "name": "stdout",
     "output_type": "stream",
     "text": [
      "<class 'pandas.core.frame.DataFrame'>\n",
      "RangeIndex: 8000 entries, 0 to 7999\n",
      "Data columns (total 8 columns):\n",
      " #   Column       Non-Null Count  Dtype  \n",
      "---  ------       --------------  -----  \n",
      " 0   Size         8000 non-null   float64\n",
      " 1   Weight       8000 non-null   float64\n",
      " 2   Sweetness    8000 non-null   float64\n",
      " 3   Softness     8000 non-null   float64\n",
      " 4   HarvestTime  8000 non-null   float64\n",
      " 5   Ripeness     8000 non-null   float64\n",
      " 6   Acidity      8000 non-null   float64\n",
      " 7   Quality      8000 non-null   object \n",
      "dtypes: float64(7), object(1)\n",
      "memory usage: 500.1+ KB\n"
     ]
    }
   ],
   "source": [
    "data_banana.info()"
   ]
  },
  {
   "cell_type": "code",
   "execution_count": 71,
   "id": "ccc100bb-335f-4767-ab4e-7523cc1a7455",
   "metadata": {},
   "outputs": [
    {
     "name": "stdout",
     "output_type": "stream",
     "text": [
      "<class 'pandas.core.frame.DataFrame'>\n",
      "RangeIndex: 2000 entries, 0 to 1999\n",
      "Data columns (total 11 columns):\n",
      " #   Column             Non-Null Count  Dtype  \n",
      "---  ------             --------------  -----  \n",
      " 0   age                2000 non-null   int64  \n",
      " 1   height_cm          2000 non-null   int64  \n",
      " 2   weight_kg          2000 non-null   int64  \n",
      " 3   heart_rate         2000 non-null   float64\n",
      " 4   blood_pressure     2000 non-null   float64\n",
      " 5   sleep_hours        1840 non-null   float64\n",
      " 6   nutrition_quality  2000 non-null   float64\n",
      " 7   activity_index     2000 non-null   float64\n",
      " 8   smokes             2000 non-null   object \n",
      " 9   gender             2000 non-null   object \n",
      " 10  is_fit             2000 non-null   int64  \n",
      "dtypes: float64(5), int64(4), object(2)\n",
      "memory usage: 172.0+ KB\n"
     ]
    }
   ],
   "source": [
    "data_fitness.info()"
   ]
  },
  {
   "cell_type": "code",
   "execution_count": 73,
   "id": "4a11463e-4497-452a-bfbd-14c92901f3f9",
   "metadata": {},
   "outputs": [
    {
     "name": "stdout",
     "output_type": "stream",
     "text": [
      "<class 'pandas.core.frame.DataFrame'>\n",
      "RangeIndex: 918 entries, 0 to 917\n",
      "Data columns (total 12 columns):\n",
      " #   Column          Non-Null Count  Dtype  \n",
      "---  ------          --------------  -----  \n",
      " 0   Age             918 non-null    int64  \n",
      " 1   Sex             918 non-null    object \n",
      " 2   ChestPainType   918 non-null    object \n",
      " 3   RestingBP       918 non-null    int64  \n",
      " 4   Cholesterol     918 non-null    int64  \n",
      " 5   FastingBS       918 non-null    int64  \n",
      " 6   RestingECG      918 non-null    object \n",
      " 7   MaxHR           918 non-null    int64  \n",
      " 8   ExerciseAngina  918 non-null    object \n",
      " 9   Oldpeak         918 non-null    float64\n",
      " 10  ST_Slope        918 non-null    object \n",
      " 11  HeartDisease    918 non-null    int64  \n",
      "dtypes: float64(1), int64(6), object(5)\n",
      "memory usage: 86.2+ KB\n"
     ]
    }
   ],
   "source": [
    "data_heart.info()"
   ]
  },
  {
   "cell_type": "code",
   "execution_count": 75,
   "id": "07425dc2-4bed-4221-b0a9-7c76d61bf439",
   "metadata": {},
   "outputs": [
    {
     "name": "stdout",
     "output_type": "stream",
     "text": [
      "<class 'pandas.core.frame.DataFrame'>\n",
      "RangeIndex: 1500 entries, 0 to 1499\n",
      "Data columns (total 11 columns):\n",
      " #   Column               Non-Null Count  Dtype  \n",
      "---  ------               --------------  -----  \n",
      " 0   Age                  1500 non-null   int64  \n",
      " 1   Gender               1500 non-null   int64  \n",
      " 2   EducationLevel       1500 non-null   int64  \n",
      " 3   ExperienceYears      1500 non-null   int64  \n",
      " 4   PreviousCompanies    1500 non-null   int64  \n",
      " 5   DistanceFromCompany  1500 non-null   float64\n",
      " 6   InterviewScore       1500 non-null   int64  \n",
      " 7   SkillScore           1500 non-null   int64  \n",
      " 8   PersonalityScore     1500 non-null   int64  \n",
      " 9   RecruitmentStrategy  1500 non-null   int64  \n",
      " 10  HiringDecision       1500 non-null   int64  \n",
      "dtypes: float64(1), int64(10)\n",
      "memory usage: 129.0 KB\n"
     ]
    }
   ],
   "source": [
    "data_HR.info()"
   ]
  },
  {
   "cell_type": "code",
   "execution_count": 77,
   "id": "5e954e9f-e927-4a7f-afcc-268771621a61",
   "metadata": {},
   "outputs": [],
   "source": [
    "y_banana = data_banana.loc[:,'Quality']\n",
    "X_banana = data_banana.drop(['Quality'], axis = 1)\n",
    "y_fitness = data_fitness.loc[:, 'is_fit']\n",
    "X_fitness = data_fitness.drop(['is_fit'], axis = 1)\n",
    "y_heart = data_heart.loc[:,'HeartDisease']\n",
    "X_heart = data_heart.drop(['HeartDisease'], axis = 1)\n",
    "y_HR = data_HR.loc[:, 'HiringDecision']\n",
    "X_HR = data_HR.drop(['HiringDecision'], axis = 1)"
   ]
  },
  {
   "cell_type": "code",
   "execution_count": 79,
   "id": "e1a78fd6-ee50-440b-90a1-cc7b80b3dbfa",
   "metadata": {},
   "outputs": [],
   "source": [
    "y_banana = y_banana.map({'Bad':0, 'Good':1})"
   ]
  },
  {
   "cell_type": "code",
   "execution_count": 105,
   "id": "92d49426-120d-40e3-a22d-e012eb868c22",
   "metadata": {},
   "outputs": [],
   "source": [
    "X_fitness['smokes'] = X_fitness['smokes'].replace({'yes':1, 'no':0}).astype(int)"
   ]
  },
  {
   "cell_type": "code",
   "execution_count": 83,
   "id": "b4d76b5b-569c-46ef-a6b6-92506aedf66a",
   "metadata": {},
   "outputs": [],
   "source": [
    "cat_pipeline = Pipeline(steps=[\n",
    "    ('one-hot', OneHotEncoder(handle_unknown='ignore'))\n",
    "])"
   ]
  },
  {
   "cell_type": "code",
   "execution_count": 85,
   "id": "4e24ae85-92bb-4357-8cec-cd52133328d2",
   "metadata": {},
   "outputs": [],
   "source": [
    "num_pipeline = Pipeline(steps=[\n",
    "    ('impute', SimpleImputer()),\n",
    "    ('scale', MinMaxScaler())\n",
    "])"
   ]
  },
  {
   "cell_type": "code",
   "execution_count": 87,
   "id": "120d2d4d-bd07-4dda-a8b4-dde999138505",
   "metadata": {},
   "outputs": [],
   "source": [
    "col_transformer = ColumnTransformer(transformers=[\n",
    "    ('num-pipeline',num_pipeline, make_column_selector(dtype_include=np.number)),\n",
    "    ('cat-pipeline',cat_pipeline, make_column_selector(dtype_include=np.object_))\n",
    "])"
   ]
  },
  {
   "cell_type": "code",
   "execution_count": 91,
   "id": "bcae8682-dbe5-42b3-b961-f16b45de35e5",
   "metadata": {},
   "outputs": [],
   "source": [
    "model_pipeline = Pipeline(steps=[\n",
    "    ('preprocessing', col_transformer),\n",
    "    ('model', RandomForestClassifier())\n",
    "])"
   ]
  },
  {
   "cell_type": "code",
   "execution_count": 95,
   "id": "2d466c9a-8693-4cba-a6ea-c54c033787d0",
   "metadata": {},
   "outputs": [
    {
     "data": {
      "text/plain": [
       "{'fit_time': array([1.57075453, 1.66700673, 1.57266498, 1.62773442, 1.5970397 ]),\n",
       " 'score_time': array([0.07028484, 0.03342199, 0.02040911, 0.03024554, 0.02393603]),\n",
       " 'test_score': array([0.959375, 0.95875 , 0.95875 , 0.9775  , 0.9625  ])}"
      ]
     },
     "execution_count": 95,
     "metadata": {},
     "output_type": "execute_result"
    }
   ],
   "source": [
    "cross_validate(model_pipeline, X_banana, y_banana)"
   ]
  },
  {
   "cell_type": "code",
   "execution_count": 97,
   "id": "23902210-aff5-4818-a21f-9fae274b2c2a",
   "metadata": {},
   "outputs": [
    {
     "data": {
      "text/plain": [
       "{'fit_time': array([0.24624944, 0.22908688, 0.24077225, 0.22376537, 0.22249675]),\n",
       " 'score_time': array([0.01804018, 0.02588916, 0.01509261, 0.01696372, 0.01714921]),\n",
       " 'test_score': array([0.88586957, 0.83152174, 0.8423913 , 0.83060109, 0.7704918 ])}"
      ]
     },
     "execution_count": 97,
     "metadata": {},
     "output_type": "execute_result"
    }
   ],
   "source": [
    "cross_validate(model_pipeline, X_heart, y_heart)"
   ]
  },
  {
   "cell_type": "code",
   "execution_count": 109,
   "id": "a821d743-4706-45f2-bef9-f720aacd1bc1",
   "metadata": {},
   "outputs": [
    {
     "data": {
      "text/plain": [
       "{'fit_time': array([0.47198176, 0.45459151, 0.41576147, 0.44129705, 0.4324882 ]),\n",
       " 'score_time': array([0.01353693, 0.01581407, 0.01776218, 0.01798964, 0.03025007]),\n",
       " 'test_score': array([0.7875, 0.755 , 0.75  , 0.7925, 0.8075])}"
      ]
     },
     "execution_count": 109,
     "metadata": {},
     "output_type": "execute_result"
    }
   ],
   "source": [
    "cross_validate(model_pipeline, X_fitness, y_fitness)"
   ]
  },
  {
   "cell_type": "code",
   "execution_count": 111,
   "id": "5a300524-07c9-49a6-a423-6b77ac47d307",
   "metadata": {},
   "outputs": [
    {
     "data": {
      "text/plain": [
       "{'fit_time': array([0.29161882, 0.30934834, 0.3479414 , 0.30029321, 0.26994467]),\n",
       " 'score_time': array([0.02298927, 0.02048898, 0.01734543, 0.0180738 , 0.01153278]),\n",
       " 'test_score': array([0.95666667, 0.96333333, 0.97      , 0.95666667, 0.79333333])}"
      ]
     },
     "execution_count": 111,
     "metadata": {},
     "output_type": "execute_result"
    }
   ],
   "source": [
    "cross_validate(model_pipeline, X_HR, y_HR)"
   ]
  },
  {
   "cell_type": "code",
   "execution_count": 119,
   "id": "2cead308-5e91-4ab0-9683-0f069960b5ff",
   "metadata": {},
   "outputs": [],
   "source": [
    "X_banana_train, X_banana_test, y_banana_train, y_banana_test = train_test_split(X_banana, y_banana, test_size=0.3, random_state=123)\n",
    "X_fitness_train, X_fitness_test, y_fitness_train, y_fitness_test = train_test_split(X_fitness, y_fitness, test_size=0.3, random_state=123)\n",
    "X_heart_train, X_heart_test, y_heart_train, y_heart_test = train_test_split(X_heart, y_heart, test_size=0.3, random_state=123)\n",
    "X_HR_train, X_HR_test, y_HR_train, y_HR_test = train_test_split(X_HR, y_HR, test_size=0.3, random_state=123)"
   ]
  }
 ],
 "metadata": {
  "kernelspec": {
   "display_name": "Python [conda env:anaconda3-openml_env]",
   "language": "python",
   "name": "conda-env-anaconda3-openml_env-py"
  },
  "language_info": {
   "codemirror_mode": {
    "name": "ipython",
    "version": 3
   },
   "file_extension": ".py",
   "mimetype": "text/x-python",
   "name": "python",
   "nbconvert_exporter": "python",
   "pygments_lexer": "ipython3",
   "version": "3.11.13"
  }
 },
 "nbformat": 4,
 "nbformat_minor": 5
}
